{
  "nbformat": 4,
  "nbformat_minor": 0,
  "metadata": {
    "colab": {
      "name": "tinhuocluong.ipynb",
      "provenance": [],
      "authorship_tag": "ABX9TyObTJkP6FTj+0oYnSPgwZCk",
      "include_colab_link": true
    },
    "kernelspec": {
      "name": "python3",
      "display_name": "Python 3"
    },
    "language_info": {
      "name": "python"
    }
  },
  "cells": [
    {
      "cell_type": "markdown",
      "metadata": {
        "id": "view-in-github",
        "colab_type": "text"
      },
      "source": [
        "<a href=\"https://colab.research.google.com/github/viett887g/T-m-th-vi-n-th-ng-k-/blob/main/tinhuocluong.ipynb\" target=\"_parent\"><img src=\"https://colab.research.google.com/assets/colab-badge.svg\" alt=\"Open In Colab\"/></a>"
      ]
    },
    {
      "cell_type": "code",
      "execution_count": null,
      "metadata": {
        "id": "49-TReooPqIX"
      },
      "outputs": [],
      "source": [
        "x = [3,6,7,8,3,1,44,12]\n"
      ]
    },
    {
      "cell_type": "code",
      "source": [
        "#trung binh\n",
        "import numpy as np\n",
        "mean = np.mean(x) \n",
        "print (mean)\n"
      ],
      "metadata": {
        "colab": {
          "base_uri": "https://localhost:8080/"
        },
        "id": "EKaQ2nxiQgbP",
        "outputId": "34d2e351-a2f5-4ad0-9c1f-dee75b8f4a2b"
      },
      "execution_count": null,
      "outputs": [
        {
          "output_type": "stream",
          "name": "stdout",
          "text": [
            "10.5\n"
          ]
        }
      ]
    },
    {
      "cell_type": "code",
      "source": [
        "#trungvi\n",
        "median = np.median(x)\n",
        "print (median)"
      ],
      "metadata": {
        "colab": {
          "base_uri": "https://localhost:8080/"
        },
        "id": "swR2YcV-QrIP",
        "outputId": "bb4336e3-21a5-4628-cbcc-e649eb4148f4"
      },
      "execution_count": null,
      "outputs": [
        {
          "output_type": "stream",
          "name": "stdout",
          "text": [
            "6.5\n"
          ]
        }
      ]
    },
    {
      "cell_type": "code",
      "source": [
        "#phep mode\n",
        "import statistics\n",
        "\n",
        "mode = statistics.mode(x) \n",
        "print(mode)\n"
      ],
      "metadata": {
        "colab": {
          "base_uri": "https://localhost:8080/"
        },
        "id": "YkzNLGMFQ1bm",
        "outputId": "4bb08384-a8b2-48bf-9508-35086e5d2eb4"
      },
      "execution_count": null,
      "outputs": [
        {
          "output_type": "stream",
          "name": "stdout",
          "text": [
            "3\n"
          ]
        }
      ]
    },
    {
      "cell_type": "code",
      "source": [
        "#phuong sai\n",
        "mean = statistics.mean (x)\n",
        "variance = statistics.variance (x, mean) \n",
        "print (mean)\n"
      ],
      "metadata": {
        "colab": {
          "base_uri": "https://localhost:8080/"
        },
        "id": "ap3OXDj8Q_rm",
        "outputId": "7cf2b774-9f45-4ac2-e515-0f4a0661e761"
      },
      "execution_count": null,
      "outputs": [
        {
          "output_type": "stream",
          "name": "stdout",
          "text": [
            "10.5\n"
          ]
        }
      ]
    },
    {
      "cell_type": "code",
      "source": [
        "#dolechchuan\n",
        "mean = statistics.mean(x)\n",
        "variance = statistics.variance (x, mean) \n",
        "standard_deversion = variance ** 0,5\n",
        "print(standard_deversion)\n"
      ],
      "metadata": {
        "colab": {
          "base_uri": "https://localhost:8080/"
        },
        "id": "MNPRKDDgRZi6",
        "outputId": "7e41ed45-0df5-4cdf-bdcc-9434cad22de8"
      },
      "execution_count": null,
      "outputs": [
        {
          "output_type": "stream",
          "name": "stdout",
          "text": [
            "(1.0, 5)\n"
          ]
        }
      ]
    },
    {
      "cell_type": "code",
      "source": [
        "from scipy.stats import sem\n",
        "\n"
      ],
      "metadata": {
        "id": "0Aqf4IC6RwCe"
      },
      "execution_count": null,
      "outputs": []
    },
    {
      "cell_type": "code",
      "source": [
        "data = [3, 4, 4, 5, 7, 8, 12, 14, 14, 15, 17, 19, 22, 24, 24,24, 25, 28, 28, 29]\n"
      ],
      "metadata": {
        "id": "q8y_HNmsR0g8"
      },
      "execution_count": null,
      "outputs": []
    },
    {
      "cell_type": "code",
      "source": [
        "#sai so\n",
        "sem(data)\n",
        "\n"
      ],
      "metadata": {
        "colab": {
          "base_uri": "https://localhost:8080/"
        },
        "id": "3oPZs22mR3SE",
        "outputId": "fb0dd586-37fb-4194-d862-56158e295c0e"
      },
      "execution_count": null,
      "outputs": [
        {
          "output_type": "execute_result",
          "data": {
            "text/plain": [
              "2.0014468450808804"
            ]
          },
          "metadata": {},
          "execution_count": 22
        }
      ]
    }
  ]
}